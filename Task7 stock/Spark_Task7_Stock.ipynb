{
  "nbformat": 4,
  "nbformat_minor": 0,
  "metadata": {
    "colab": {
      "name": "Spark Task7 Stock.ipynb",
      "provenance": [],
      "collapsed_sections": []
    },
    "kernelspec": {
      "name": "python3",
      "display_name": "Python 3"
    },
    "language_info": {
      "name": "python"
    }
  },
  "cells": [
    {
      "cell_type": "markdown",
      "metadata": {
        "id": "sID_EfL1DDoI"
      },
      "source": [
        "### GRIP Internship - The Sparks Foundation"
      ]
    },
    {
      "cell_type": "markdown",
      "metadata": {
        "id": "g-ijg8fsDGJ1"
      },
      "source": [
        "#### Author: Harshit Singh"
      ]
    },
    {
      "cell_type": "markdown",
      "metadata": {
        "id": "dQQCv0gRDL3_"
      },
      "source": [
        "#### Task 7 - Data Science and Business Analytics"
      ]
    },
    {
      "cell_type": "markdown",
      "metadata": {
        "id": "e_jidKchDSQm"
      },
      "source": [
        "### Stock Market Prediction using Numerical and Textual Analysis"
      ]
    },
    {
      "cell_type": "markdown",
      "metadata": {
        "id": "aanLV84mDZAC"
      },
      "source": [
        " Create a hybrid model for stock price or performance prediction using numerical analysis of historical stock prices, and sentimental analysis of news headlines. The stock to analyze and predict is SENSEX (S&P BSE SENSEX)"
      ]
    },
    {
      "cell_type": "code",
      "metadata": {
        "colab": {
          "base_uri": "https://localhost:8080/"
        },
        "id": "B9TYEZ3pBsW0",
        "outputId": "747de932-ea6e-4d4b-dc81-7556ee76e8bb"
      },
      "source": [
        "#importing all the required libraries\n",
        "from sklearn.preprocessing import MinMaxScaler\n",
        "from sklearn.metrics import mean_squared_error\n",
        "from sklearn import metrics \n",
        "from keras.models import Sequential\n",
        "from keras.layers import Dense, LSTM\n",
        "import pandas as pd\n",
        "import matplotlib.pyplot as plt\n",
        "import numpy as np\n",
        "import math\n",
        "import re\n",
        "import nltk\n",
        "import re\n",
        "from nltk.corpus import stopwords\n",
        "nltk.download('stopwords')\n",
        "nltk.download('vader_lexicon')\n",
        "from textblob import TextBlob\n",
        "from nltk.sentiment.vader import SentimentIntensityAnalyzer\n",
        "from sklearn.ensemble import RandomForestRegressor, AdaBoostRegressor\n",
        "import xgboost"
      ],
      "execution_count": 111,
      "outputs": [
        {
          "output_type": "stream",
          "text": [
            "[nltk_data] Downloading package stopwords to /root/nltk_data...\n",
            "[nltk_data]   Package stopwords is already up-to-date!\n",
            "[nltk_data] Downloading package vader_lexicon to /root/nltk_data...\n",
            "[nltk_data]   Package vader_lexicon is already up-to-date!\n"
          ],
          "name": "stdout"
        }
      ]
    },
    {
      "cell_type": "code",
      "metadata": {
        "colab": {
          "base_uri": "https://localhost:8080/",
          "height": 204
        },
        "id": "z3tF6-fjBx8u",
        "outputId": "9d27f6ec-b71d-4e44-c0d3-bfbf42ffa0e0"
      },
      "source": [
        "# Dataframe for exploratory analysis\n",
        "df=pd.read_csv('/content/sample_data/^BSESN.csv')\n",
        "df.head()"
      ],
      "execution_count": 112,
      "outputs": [
        {
          "output_type": "execute_result",
          "data": {
            "text/html": [
              "<div>\n",
              "<style scoped>\n",
              "    .dataframe tbody tr th:only-of-type {\n",
              "        vertical-align: middle;\n",
              "    }\n",
              "\n",
              "    .dataframe tbody tr th {\n",
              "        vertical-align: top;\n",
              "    }\n",
              "\n",
              "    .dataframe thead th {\n",
              "        text-align: right;\n",
              "    }\n",
              "</style>\n",
              "<table border=\"1\" class=\"dataframe\">\n",
              "  <thead>\n",
              "    <tr style=\"text-align: right;\">\n",
              "      <th></th>\n",
              "      <th>Date</th>\n",
              "      <th>Open</th>\n",
              "      <th>High</th>\n",
              "      <th>Low</th>\n",
              "      <th>Close</th>\n",
              "      <th>Adj Close</th>\n",
              "      <th>Volume</th>\n",
              "    </tr>\n",
              "  </thead>\n",
              "  <tbody>\n",
              "    <tr>\n",
              "      <th>0</th>\n",
              "      <td>2019-12-17</td>\n",
              "      <td>41052.359375</td>\n",
              "      <td>41401.648438</td>\n",
              "      <td>41005.179688</td>\n",
              "      <td>41352.171875</td>\n",
              "      <td>41352.171875</td>\n",
              "      <td>19000.0</td>\n",
              "    </tr>\n",
              "    <tr>\n",
              "      <th>1</th>\n",
              "      <td>2019-12-18</td>\n",
              "      <td>41442.750000</td>\n",
              "      <td>41614.769531</td>\n",
              "      <td>41358.468750</td>\n",
              "      <td>41558.570313</td>\n",
              "      <td>41558.570313</td>\n",
              "      <td>24300.0</td>\n",
              "    </tr>\n",
              "    <tr>\n",
              "      <th>2</th>\n",
              "      <td>2019-12-19</td>\n",
              "      <td>41571.820313</td>\n",
              "      <td>41719.289063</td>\n",
              "      <td>41456.398438</td>\n",
              "      <td>41673.921875</td>\n",
              "      <td>41673.921875</td>\n",
              "      <td>33300.0</td>\n",
              "    </tr>\n",
              "    <tr>\n",
              "      <th>3</th>\n",
              "      <td>2019-12-20</td>\n",
              "      <td>41746.199219</td>\n",
              "      <td>41809.960938</td>\n",
              "      <td>41636.109375</td>\n",
              "      <td>41681.539063</td>\n",
              "      <td>41681.539063</td>\n",
              "      <td>33600.0</td>\n",
              "    </tr>\n",
              "    <tr>\n",
              "      <th>4</th>\n",
              "      <td>2019-12-23</td>\n",
              "      <td>41548.261719</td>\n",
              "      <td>41701.621094</td>\n",
              "      <td>41474.609375</td>\n",
              "      <td>41642.660156</td>\n",
              "      <td>41642.660156</td>\n",
              "      <td>6200.0</td>\n",
              "    </tr>\n",
              "  </tbody>\n",
              "</table>\n",
              "</div>"
            ],
            "text/plain": [
              "         Date          Open          High  ...         Close     Adj Close   Volume\n",
              "0  2019-12-17  41052.359375  41401.648438  ...  41352.171875  41352.171875  19000.0\n",
              "1  2019-12-18  41442.750000  41614.769531  ...  41558.570313  41558.570313  24300.0\n",
              "2  2019-12-19  41571.820313  41719.289063  ...  41673.921875  41673.921875  33300.0\n",
              "3  2019-12-20  41746.199219  41809.960938  ...  41681.539063  41681.539063  33600.0\n",
              "4  2019-12-23  41548.261719  41701.621094  ...  41642.660156  41642.660156   6200.0\n",
              "\n",
              "[5 rows x 7 columns]"
            ]
          },
          "metadata": {
            "tags": []
          },
          "execution_count": 112
        }
      ]
    },
    {
      "cell_type": "code",
      "metadata": {
        "colab": {
          "base_uri": "https://localhost:8080/",
          "height": 500
        },
        "id": "4iqNa9nlByAO",
        "outputId": "22018291-45ba-4dac-92d8-c90b03d2c6f0"
      },
      "source": [
        "# Extract date frame and plot closing stock price w.r.t time\n",
        "df['Date'] = pd.to_datetime(df.Date,format='%Y-%m-%d')\n",
        "df.index = df['Date']\n",
        "df.dropna(inplace=True)\n",
        "#plot\n",
        "plt.figure(figsize=(16,8))\n",
        "plt.plot(df['Close'], label='Close Price history')"
      ],
      "execution_count": 113,
      "outputs": [
        {
          "output_type": "execute_result",
          "data": {
            "text/plain": [
              "[<matplotlib.lines.Line2D at 0x7fc777431cd0>]"
            ]
          },
          "metadata": {
            "tags": []
          },
          "execution_count": 113
        },
        {
          "output_type": "display_data",
          "data": {
            "image/png": "[encoded data removed]",
            "text/plain": [
              "<Figure size 1152x576 with 1 Axes>"
            ]
          },
          "metadata": {
            "tags": [],
            "needs_background": "light"
          }
        }
      ]
    },
    {
      "cell_type": "code",
      "metadata": {
        "id": "o_U-N97HByDU"
      },
      "source": [
        "# fix random seed for reproducibility\n",
        "np.random.seed(7)"
      ],
      "execution_count": 114,
      "outputs": []
    },
    {
      "cell_type": "markdown",
      "metadata": {
        "id": "FKZZLzr7Qvrd"
      },
      "source": [
        "### Step 2 : Creating a dataframe for storing the Closing stock data per day"
      ]
    },
    {
      "cell_type": "code",
      "metadata": {
        "id": "TUbL6vHlByGA"
      },
      "source": [
        "# convert an array of values into a dataset matrix\n",
        "def create_dataset(df2, look_back=1):\n",
        "\tdataX, dataY = [], []\n",
        "\tfor i in range(len(df2)-look_back-1):\n",
        "\t\ta = df2[i:(i+look_back), 0]\n",
        "\t\tdataX.append(a)\n",
        "\t\tdataY.append(df2[i + look_back, 0])\n",
        "\treturn np.array(dataX), np.array(dataY)"
      ],
      "execution_count": 115,
      "outputs": []
    },
    {
      "cell_type": "code",
      "metadata": {
        "id": "k-cQpDMZRxEf"
      },
      "source": [
        "df2 = pd.read_csv('/content/sample_data/^BSESN.csv', usecols=[5], engine='python')\n",
        "df2.dropna(inplace=True)\n",
        "df2 = df2.values\n",
        "df2 = df2.astype('float32')"
      ],
      "execution_count": 116,
      "outputs": []
    },
    {
      "cell_type": "markdown",
      "metadata": {
        "id": "y92v1sUjSDyM"
      },
      "source": [
        "### Step 3 : Data Normalization and Division into Training and Test sets"
      ]
    },
    {
      "cell_type": "code",
      "metadata": {
        "id": "llOybxbAR_Vm"
      },
      "source": [
        "# normalize the dataset\n",
        "scaler = MinMaxScaler(feature_range=(0, 1))\n",
        "df2 = scaler.fit_transform(df2)\n",
        "\n",
        "# split into train and test sets\n",
        "train_size = int(len(df2) * 0.67)\n",
        "test_size = len(df2) - train_size\n",
        "train, test = df2[0:train_size,:], df2[train_size:len(df2),:]"
      ],
      "execution_count": 117,
      "outputs": []
    },
    {
      "cell_type": "code",
      "metadata": {
        "id": "MO7N4ERUR_Tl"
      },
      "source": [
        "# reshape into X=t and Y=t+1\n",
        "look_back = 3\n",
        "trainX, trainY = create_dataset(train, look_back)\n",
        "testX, testY = create_dataset(test, look_back)\n",
        "# reshape input to be [samples, time steps, features]\n",
        "trainX = np.reshape(trainX, (trainX.shape[0], trainX.shape[1], 1))\n",
        "testX = np.reshape(testX, (testX.shape[0], testX.shape[1], 1))"
      ],
      "execution_count": 118,
      "outputs": []
    },
    {
      "cell_type": "markdown",
      "metadata": {
        "id": "9Ejf-BzWSQ0J"
      },
      "source": [
        "### Step 4 : Creating a LSTM for Numerical Analysis"
      ]
    },
    {
      "cell_type": "code",
      "metadata": {
        "colab": {
          "base_uri": "https://localhost:8080/"
        },
        "id": "kLhw8iToR_RH",
        "outputId": "1171a328-9d3d-4609-880f-0bc6fb2457ab"
      },
      "source": [
        "# create and fit the LSTM network\n",
        "model = Sequential()\n",
        "model.add(LSTM(7, input_shape=(look_back, 1)))\n",
        "model.add(Dense(1))\n",
        "model.compile(loss='mean_squared_error', optimizer='adam')\n",
        "model.fit(trainX, trainY, epochs=100, batch_size=1, verbose=2)"
      ],
      "execution_count": 119,
      "outputs": [
        {
          "output_type": "stream",
          "text": [
            "Epoch 1/100\n",
            "163/163 - 2s - loss: 0.1137\n",
            "Epoch 2/100\n",
            "163/163 - 0s - loss: 0.0171\n",
            "Epoch 3/100\n",
            "163/163 - 0s - loss: 0.0109\n",
            "Epoch 4/100\n",
            "163/163 - 0s - loss: 0.0068\n",
            "Epoch 5/100\n",
            "163/163 - 0s - loss: 0.0037\n",
            "Epoch 6/100\n",
            "163/163 - 0s - loss: 0.0023\n",
            "Epoch 7/100\n",
            "163/163 - 0s - loss: 0.0018\n",
            "Epoch 8/100\n",
            "163/163 - 0s - loss: 0.0018\n",
            "Epoch 9/100\n",
            "163/163 - 0s - loss: 0.0018\n",
            "Epoch 10/100\n",
            "163/163 - 0s - loss: 0.0018\n",
            "Epoch 11/100\n",
            "163/163 - 0s - loss: 0.0018\n",
            "Epoch 12/100\n",
            "163/163 - 0s - loss: 0.0018\n",
            "Epoch 13/100\n",
            "163/163 - 0s - loss: 0.0018\n",
            "Epoch 14/100\n",
            "163/163 - 0s - loss: 0.0018\n",
            "Epoch 15/100\n",
            "163/163 - 0s - loss: 0.0018\n",
            "Epoch 16/100\n",
            "163/163 - 0s - loss: 0.0018\n",
            "Epoch 17/100\n",
            "163/163 - 0s - loss: 0.0017\n",
            "Epoch 18/100\n",
            "163/163 - 0s - loss: 0.0018\n",
            "Epoch 19/100\n",
            "163/163 - 0s - loss: 0.0018\n",
            "Epoch 20/100\n",
            "163/163 - 0s - loss: 0.0017\n",
            "Epoch 21/100\n",
            "163/163 - 0s - loss: 0.0017\n",
            "Epoch 22/100\n",
            "163/163 - 0s - loss: 0.0017\n",
            "Epoch 23/100\n",
            "163/163 - 0s - loss: 0.0018\n",
            "Epoch 24/100\n",
            "163/163 - 0s - loss: 0.0017\n",
            "Epoch 25/100\n",
            "163/163 - 0s - loss: 0.0018\n",
            "Epoch 26/100\n",
            "163/163 - 0s - loss: 0.0017\n",
            "Epoch 27/100\n",
            "163/163 - 0s - loss: 0.0018\n",
            "Epoch 28/100\n",
            "163/163 - 0s - loss: 0.0017\n",
            "Epoch 29/100\n",
            "163/163 - 0s - loss: 0.0017\n",
            "Epoch 30/100\n",
            "163/163 - 0s - loss: 0.0017\n",
            "Epoch 31/100\n",
            "163/163 - 0s - loss: 0.0017\n",
            "Epoch 32/100\n",
            "163/163 - 0s - loss: 0.0017\n",
            "Epoch 33/100\n",
            "163/163 - 0s - loss: 0.0018\n",
            "Epoch 34/100\n",
            "163/163 - 0s - loss: 0.0017\n",
            "Epoch 35/100\n",
            "163/163 - 0s - loss: 0.0018\n",
            "Epoch 36/100\n",
            "163/163 - 0s - loss: 0.0016\n",
            "Epoch 37/100\n",
            "163/163 - 0s - loss: 0.0017\n",
            "Epoch 38/100\n",
            "163/163 - 0s - loss: 0.0017\n",
            "Epoch 39/100\n",
            "163/163 - 0s - loss: 0.0017\n",
            "Epoch 40/100\n",
            "163/163 - 0s - loss: 0.0018\n",
            "Epoch 41/100\n",
            "163/163 - 0s - loss: 0.0016\n",
            "Epoch 42/100\n",
            "163/163 - 0s - loss: 0.0017\n",
            "Epoch 43/100\n",
            "163/163 - 0s - loss: 0.0017\n",
            "Epoch 44/100\n",
            "163/163 - 0s - loss: 0.0017\n",
            "Epoch 45/100\n",
            "163/163 - 0s - loss: 0.0016\n",
            "Epoch 46/100\n",
            "163/163 - 0s - loss: 0.0016\n",
            "Epoch 47/100\n",
            "163/163 - 0s - loss: 0.0017\n",
            "Epoch 48/100\n",
            "163/163 - 0s - loss: 0.0016\n",
            "Epoch 49/100\n",
            "163/163 - 0s - loss: 0.0016\n",
            "Epoch 50/100\n",
            "163/163 - 0s - loss: 0.0017\n",
            "Epoch 51/100\n",
            "163/163 - 0s - loss: 0.0016\n",
            "Epoch 52/100\n",
            "163/163 - 0s - loss: 0.0016\n",
            "Epoch 53/100\n",
            "163/163 - 0s - loss: 0.0016\n",
            "Epoch 54/100\n",
            "163/163 - 0s - loss: 0.0016\n",
            "Epoch 55/100\n",
            "163/163 - 0s - loss: 0.0016\n",
            "Epoch 56/100\n",
            "163/163 - 0s - loss: 0.0016\n",
            "Epoch 57/100\n",
            "163/163 - 0s - loss: 0.0016\n",
            "Epoch 58/100\n",
            "163/163 - 0s - loss: 0.0014\n",
            "Epoch 59/100\n",
            "163/163 - 0s - loss: 0.0016\n",
            "Epoch 60/100\n",
            "163/163 - 0s - loss: 0.0016\n",
            "Epoch 61/100\n",
            "163/163 - 0s - loss: 0.0015\n",
            "Epoch 62/100\n",
            "163/163 - 0s - loss: 0.0015\n",
            "Epoch 63/100\n",
            "163/163 - 0s - loss: 0.0015\n",
            "Epoch 64/100\n",
            "163/163 - 0s - loss: 0.0015\n",
            "Epoch 65/100\n",
            "163/163 - 0s - loss: 0.0015\n",
            "Epoch 66/100\n",
            "163/163 - 0s - loss: 0.0015\n",
            "Epoch 67/100\n",
            "163/163 - 0s - loss: 0.0015\n",
            "Epoch 68/100\n",
            "163/163 - 0s - loss: 0.0016\n",
            "Epoch 69/100\n",
            "163/163 - 0s - loss: 0.0015\n",
            "Epoch 70/100\n",
            "163/163 - 0s - loss: 0.0014\n",
            "Epoch 71/100\n",
            "163/163 - 0s - loss: 0.0016\n",
            "Epoch 72/100\n",
            "163/163 - 0s - loss: 0.0015\n",
            "Epoch 73/100\n",
            "163/163 - 0s - loss: 0.0015\n",
            "Epoch 74/100\n",
            "163/163 - 0s - loss: 0.0014\n",
            "Epoch 75/100\n",
            "163/163 - 0s - loss: 0.0014\n",
            "Epoch 76/100\n",
            "163/163 - 0s - loss: 0.0015\n",
            "Epoch 77/100\n",
            "163/163 - 0s - loss: 0.0015\n",
            "Epoch 78/100\n",
            "163/163 - 0s - loss: 0.0014\n",
            "Epoch 79/100\n",
            "163/163 - 0s - loss: 0.0016\n",
            "Epoch 80/100\n",
            "163/163 - 0s - loss: 0.0015\n",
            "Epoch 81/100\n",
            "163/163 - 0s - loss: 0.0015\n",
            "Epoch 82/100\n",
            "163/163 - 0s - loss: 0.0015\n",
            "Epoch 83/100\n",
            "163/163 - 0s - loss: 0.0014\n",
            "Epoch 84/100\n",
            "163/163 - 0s - loss: 0.0014\n",
            "Epoch 85/100\n",
            "163/163 - 0s - loss: 0.0015\n",
            "Epoch 86/100\n",
            "163/163 - 0s - loss: 0.0014\n",
            "Epoch 87/100\n",
            "163/163 - 0s - loss: 0.0014\n",
            "Epoch 88/100\n",
            "163/163 - 0s - loss: 0.0014\n",
            "Epoch 89/100\n",
            "163/163 - 0s - loss: 0.0014\n",
            "Epoch 90/100\n",
            "163/163 - 0s - loss: 0.0014\n",
            "Epoch 91/100\n",
            "163/163 - 0s - loss: 0.0014\n",
            "Epoch 92/100\n",
            "163/163 - 0s - loss: 0.0013\n",
            "Epoch 93/100\n",
            "163/163 - 0s - loss: 0.0014\n",
            "Epoch 94/100\n",
            "163/163 - 0s - loss: 0.0013\n",
            "Epoch 95/100\n",
            "163/163 - 0s - loss: 0.0014\n",
            "Epoch 96/100\n",
            "163/163 - 0s - loss: 0.0013\n",
            "Epoch 97/100\n",
            "163/163 - 0s - loss: 0.0014\n",
            "Epoch 98/100\n",
            "163/163 - 0s - loss: 0.0014\n",
            "Epoch 99/100\n",
            "163/163 - 0s - loss: 0.0013\n",
            "Epoch 100/100\n",
            "163/163 - 0s - loss: 0.0013\n"
          ],
          "name": "stdout"
        },
        {
          "output_type": "execute_result",
          "data": {
            "text/plain": [
              "<keras.callbacks.History at 0x7fc7730e0150>"
            ]
          },
          "metadata": {
            "tags": []
          },
          "execution_count": 119
        }
      ]
    },
    {
      "cell_type": "code",
      "metadata": {
        "id": "UDfn-oF4R_OO"
      },
      "source": [
        "# make predictions\n",
        "trainPredict = model.predict(trainX)\n",
        "testPredict = model.predict(testX)\n",
        "# invert predictions\n",
        "trainPredict = scaler.inverse_transform(trainPredict)\n",
        "trainY = scaler.inverse_transform([trainY])\n",
        "testPredict = scaler.inverse_transform(testPredict)\n",
        "testY = scaler.inverse_transform([testY])"
      ],
      "execution_count": 120,
      "outputs": []
    },
    {
      "cell_type": "markdown",
      "metadata": {
        "id": "mqxD2hHXSe4b"
      },
      "source": [
        "### Step 5 : Making Predictions"
      ]
    },
    {
      "cell_type": "code",
      "metadata": {
        "colab": {
          "base_uri": "https://localhost:8080/",
          "height": 265
        },
        "id": "b_UJ5-tnR_Lr",
        "outputId": "5547ab9e-cda8-4f03-c542-b0c75188a336"
      },
      "source": [
        "# shift train predictions for plotting\n",
        "trainPredictPlot = np.empty_like(df2)\n",
        "trainPredictPlot[:, :] = np.nan\n",
        "trainPredictPlot[look_back:len(trainPredict)+look_back, :] = trainPredict\n",
        "# shift test predictions for plotting\n",
        "testPredictPlot = np.empty_like(df2)\n",
        "testPredictPlot[:, :] = np.nan\n",
        "testPredictPlot[len(trainPredict)+(look_back*2)+1:len(df2)-1, :] = testPredict\n",
        "# plot baseline and predictions\n",
        "plt.plot(scaler.inverse_transform(df2))\n",
        "plt.plot(trainPredictPlot,color='red')\n",
        "plt.plot(testPredictPlot,color='green')\n",
        "plt.show()"
      ],
      "execution_count": 121,
      "outputs": [
        {
          "output_type": "display_data",
          "data": {
            "image/png": "[encoded data removed]",
            "text/plain": [
              "<Figure size 432x288 with 1 Axes>"
            ]
          },
          "metadata": {
            "tags": [],
            "needs_background": "light"
          }
        }
      ]
    },
    {
      "cell_type": "code",
      "metadata": {
        "colab": {
          "base_uri": "https://localhost:8080/"
        },
        "id": "mtMluCyhR_Jo",
        "outputId": "bf1e69c2-6cdf-4a3c-945c-4961e18eac69"
      },
      "source": [
        "# calculate root mean squared error\n",
        "trainScore = math.sqrt(mean_squared_error(trainY[0], trainPredict[:,0]))\n",
        "print(\"Root mean square error = \",trainScore,\" RMSE\")\n",
        "testScore = math.sqrt(mean_squared_error(testY[0], testPredict[:,0]))\n",
        "print(\"Root mean square error = \",testScore,\" RMSE\")"
      ],
      "execution_count": 122,
      "outputs": [
        {
          "output_type": "stream",
          "text": [
            "Root mean square error =  752.9166921833289  RMSE\n",
            "Root mean square error =  646.8433379859249  RMSE\n"
          ],
          "name": "stdout"
        }
      ]
    },
    {
      "cell_type": "markdown",
      "metadata": {
        "id": "bOdVLhuyS-ou"
      },
      "source": [
        "### Step 6 : Creating a Hybrid model for Numerical and textual Analysis"
      ]
    },
    {
      "cell_type": "code",
      "metadata": {
        "colab": {
          "base_uri": "https://localhost:8080/",
          "height": 419
        },
        "id": "P2Jt5JtqR_GB",
        "outputId": "660f4cc5-eec6-4e9d-9964-0fc5b734f940"
      },
      "source": [
        "#Text Analysis\n",
        "columns = ['Date','Category','News']\n",
        "news = pd.read_csv('/content/sample_data/india-news-headlines.csv', names = columns)\n",
        "news"
      ],
      "execution_count": 153,
      "outputs": [
        {
          "output_type": "execute_result",
          "data": {
            "text/html": [
              "<div>\n",
              "<style scoped>\n",
              "    .dataframe tbody tr th:only-of-type {\n",
              "        vertical-align: middle;\n",
              "    }\n",
              "\n",
              "    .dataframe tbody tr th {\n",
              "        vertical-align: top;\n",
              "    }\n",
              "\n",
              "    .dataframe thead th {\n",
              "        text-align: right;\n",
              "    }\n",
              "</style>\n",
              "<table border=\"1\" class=\"dataframe\">\n",
              "  <thead>\n",
              "    <tr style=\"text-align: right;\">\n",
              "      <th></th>\n",
              "      <th>Date</th>\n",
              "      <th>Category</th>\n",
              "      <th>News</th>\n",
              "    </tr>\n",
              "  </thead>\n",
              "  <tbody>\n",
              "    <tr>\n",
              "      <th>0</th>\n",
              "      <td>publish_date</td>\n",
              "      <td>headline_category</td>\n",
              "      <td>headline_text</td>\n",
              "    </tr>\n",
              "    <tr>\n",
              "      <th>1</th>\n",
              "      <td>20010102</td>\n",
              "      <td>unknown</td>\n",
              "      <td>Status quo will not be disturbed at Ayodhya; s...</td>\n",
              "    </tr>\n",
              "    <tr>\n",
              "      <th>2</th>\n",
              "      <td>20010102</td>\n",
              "      <td>unknown</td>\n",
              "      <td>Fissures in Hurriyat over Pak visit</td>\n",
              "    </tr>\n",
              "    <tr>\n",
              "      <th>3</th>\n",
              "      <td>20010102</td>\n",
              "      <td>unknown</td>\n",
              "      <td>America's unwanted heading for India?</td>\n",
              "    </tr>\n",
              "    <tr>\n",
              "      <th>4</th>\n",
              "      <td>20010102</td>\n",
              "      <td>unknown</td>\n",
              "      <td>For bigwigs; it is destination Goa</td>\n",
              "    </tr>\n",
              "    <tr>\n",
              "      <th>...</th>\n",
              "      <td>...</td>\n",
              "      <td>...</td>\n",
              "      <td>...</td>\n",
              "    </tr>\n",
              "    <tr>\n",
              "      <th>3424063</th>\n",
              "      <td>20201231</td>\n",
              "      <td>city.jodhpur</td>\n",
              "      <td>Covid-19: Despite dip in cases; Rajasthan amon...</td>\n",
              "    </tr>\n",
              "    <tr>\n",
              "      <th>3424064</th>\n",
              "      <td>20201231</td>\n",
              "      <td>city.udaipur</td>\n",
              "      <td>Covid-19: Despite dip in cases; Rajasthan amon...</td>\n",
              "    </tr>\n",
              "    <tr>\n",
              "      <th>3424065</th>\n",
              "      <td>20201231</td>\n",
              "      <td>city.ajmer</td>\n",
              "      <td>Covid-19: Despite dip in cases; Rajasthan amon...</td>\n",
              "    </tr>\n",
              "    <tr>\n",
              "      <th>3424066</th>\n",
              "      <td>20201231</td>\n",
              "      <td>removed</td>\n",
              "      <td>Govt extends deadline for use of FASTag till F...</td>\n",
              "    </tr>\n",
              "    <tr>\n",
              "      <th>3424067</th>\n",
              "      <td>20201231</td>\n",
              "      <td>entertainment.bengali.movies.news</td>\n",
              "      <td>Celebs plan to party safely and responsibly on...</td>\n",
              "    </tr>\n",
              "  </tbody>\n",
              "</table>\n",
              "<p>3424068 rows × 3 columns</p>\n",
              "</div>"
            ],
            "text/plain": [
              "                 Date  ...                                               News\n",
              "0        publish_date  ...                                      headline_text\n",
              "1            20010102  ...  Status quo will not be disturbed at Ayodhya; s...\n",
              "2            20010102  ...                Fissures in Hurriyat over Pak visit\n",
              "3            20010102  ...              America's unwanted heading for India?\n",
              "4            20010102  ...                 For bigwigs; it is destination Goa\n",
              "...               ...  ...                                                ...\n",
              "3424063      20201231  ...  Covid-19: Despite dip in cases; Rajasthan amon...\n",
              "3424064      20201231  ...  Covid-19: Despite dip in cases; Rajasthan amon...\n",
              "3424065      20201231  ...  Covid-19: Despite dip in cases; Rajasthan amon...\n",
              "3424066      20201231  ...  Govt extends deadline for use of FASTag till F...\n",
              "3424067      20201231  ...  Celebs plan to party safely and responsibly on...\n",
              "\n",
              "[3424068 rows x 3 columns]"
            ]
          },
          "metadata": {
            "tags": []
          },
          "execution_count": 153
        }
      ]
    },
    {
      "cell_type": "markdown",
      "metadata": {
        "id": "KLVzi4J5UGpA"
      },
      "source": [
        "### Step 7 : Text preprocessing"
      ]
    },
    {
      "cell_type": "code",
      "metadata": {
        "colab": {
          "base_uri": "https://localhost:8080/"
        },
        "id": "_7Lr7eRkR_DZ",
        "outputId": "fac27980-2385-4d45-d182-3e1516e1d4b7"
      },
      "source": [
        "news.drop(0, inplace=True)\n",
        "news.drop('Category', axis = 1, inplace=True)\n",
        "news.info()"
      ],
      "execution_count": 154,
      "outputs": [
        {
          "output_type": "stream",
          "text": [
            "<class 'pandas.core.frame.DataFrame'>\n",
            "Int64Index: 3424067 entries, 1 to 3424067\n",
            "Data columns (total 2 columns):\n",
            " #   Column  Dtype \n",
            "---  ------  ----- \n",
            " 0   Date    object\n",
            " 1   News    object\n",
            "dtypes: object(2)\n",
            "memory usage: 78.4+ MB\n"
          ],
          "name": "stdout"
        }
      ]
    },
    {
      "cell_type": "code",
      "metadata": {
        "colab": {
          "base_uri": "https://localhost:8080/",
          "height": 419
        },
        "id": "XsuZu6j6UJGs",
        "outputId": "51b94a8b-08b7-4b98-de8e-fb1ea71b326c"
      },
      "source": [
        "# Restructuring the date format\n",
        "news['Date'] = pd.to_datetime(news['Date'],format= '%Y %m %d')\n",
        "news"
      ],
      "execution_count": 155,
      "outputs": [
        {
          "output_type": "execute_result",
          "data": {
            "text/html": [
              "<div>\n",
              "<style scoped>\n",
              "    .dataframe tbody tr th:only-of-type {\n",
              "        vertical-align: middle;\n",
              "    }\n",
              "\n",
              "    .dataframe tbody tr th {\n",
              "        vertical-align: top;\n",
              "    }\n",
              "\n",
              "    .dataframe thead th {\n",
              "        text-align: right;\n",
              "    }\n",
              "</style>\n",
              "<table border=\"1\" class=\"dataframe\">\n",
              "  <thead>\n",
              "    <tr style=\"text-align: right;\">\n",
              "      <th></th>\n",
              "      <th>Date</th>\n",
              "      <th>News</th>\n",
              "    </tr>\n",
              "  </thead>\n",
              "  <tbody>\n",
              "    <tr>\n",
              "      <th>1</th>\n",
              "      <td>2001-01-02 00:00:00.000000000</td>\n",
              "      <td>Status quo will not be disturbed at Ayodhya; s...</td>\n",
              "    </tr>\n",
              "    <tr>\n",
              "      <th>2</th>\n",
              "      <td>2001-01-02 00:00:00.000000000</td>\n",
              "      <td>Fissures in Hurriyat over Pak visit</td>\n",
              "    </tr>\n",
              "    <tr>\n",
              "      <th>3</th>\n",
              "      <td>2001-01-02 00:00:00.000000000</td>\n",
              "      <td>America's unwanted heading for India?</td>\n",
              "    </tr>\n",
              "    <tr>\n",
              "      <th>4</th>\n",
              "      <td>2001-01-02 00:00:00.000000000</td>\n",
              "      <td>For bigwigs; it is destination Goa</td>\n",
              "    </tr>\n",
              "    <tr>\n",
              "      <th>5</th>\n",
              "      <td>2001-01-02 00:00:00.000000000</td>\n",
              "      <td>Extra buses to clear tourist traffic</td>\n",
              "    </tr>\n",
              "    <tr>\n",
              "      <th>...</th>\n",
              "      <td>...</td>\n",
              "      <td>...</td>\n",
              "    </tr>\n",
              "    <tr>\n",
              "      <th>3424063</th>\n",
              "      <td>1970-01-01 00:00:00.020201231</td>\n",
              "      <td>Covid-19: Despite dip in cases; Rajasthan amon...</td>\n",
              "    </tr>\n",
              "    <tr>\n",
              "      <th>3424064</th>\n",
              "      <td>1970-01-01 00:00:00.020201231</td>\n",
              "      <td>Covid-19: Despite dip in cases; Rajasthan amon...</td>\n",
              "    </tr>\n",
              "    <tr>\n",
              "      <th>3424065</th>\n",
              "      <td>1970-01-01 00:00:00.020201231</td>\n",
              "      <td>Covid-19: Despite dip in cases; Rajasthan amon...</td>\n",
              "    </tr>\n",
              "    <tr>\n",
              "      <th>3424066</th>\n",
              "      <td>1970-01-01 00:00:00.020201231</td>\n",
              "      <td>Govt extends deadline for use of FASTag till F...</td>\n",
              "    </tr>\n",
              "    <tr>\n",
              "      <th>3424067</th>\n",
              "      <td>1970-01-01 00:00:00.020201231</td>\n",
              "      <td>Celebs plan to party safely and responsibly on...</td>\n",
              "    </tr>\n",
              "  </tbody>\n",
              "</table>\n",
              "<p>3424067 rows × 2 columns</p>\n",
              "</div>"
            ],
            "text/plain": [
              "                                 Date                                               News\n",
              "1       2001-01-02 00:00:00.000000000  Status quo will not be disturbed at Ayodhya; s...\n",
              "2       2001-01-02 00:00:00.000000000                Fissures in Hurriyat over Pak visit\n",
              "3       2001-01-02 00:00:00.000000000              America's unwanted heading for India?\n",
              "4       2001-01-02 00:00:00.000000000                 For bigwigs; it is destination Goa\n",
              "5       2001-01-02 00:00:00.000000000               Extra buses to clear tourist traffic\n",
              "...                               ...                                                ...\n",
              "3424063 1970-01-01 00:00:00.020201231  Covid-19: Despite dip in cases; Rajasthan amon...\n",
              "3424064 1970-01-01 00:00:00.020201231  Covid-19: Despite dip in cases; Rajasthan amon...\n",
              "3424065 1970-01-01 00:00:00.020201231  Covid-19: Despite dip in cases; Rajasthan amon...\n",
              "3424066 1970-01-01 00:00:00.020201231  Govt extends deadline for use of FASTag till F...\n",
              "3424067 1970-01-01 00:00:00.020201231  Celebs plan to party safely and responsibly on...\n",
              "\n",
              "[3424067 rows x 2 columns]"
            ]
          },
          "metadata": {
            "tags": []
          },
          "execution_count": 155
        }
      ]
    },
    {
      "cell_type": "code",
      "metadata": {
        "colab": {
          "base_uri": "https://localhost:8080/",
          "height": 419
        },
        "id": "I0bvYYeHUJJh",
        "outputId": "78c83af3-098f-4819-b02a-ae77d98c90df"
      },
      "source": [
        "#Grouping the headlines for each day\n",
        "news['News'] = news.groupby(['Date']).transform(lambda x : ' '.join(x)) \n",
        "news = news.drop_duplicates() \n",
        "news.reset_index(inplace = True, drop = True)\n",
        "news"
      ],
      "execution_count": 156,
      "outputs": [
        {
          "output_type": "execute_result",
          "data": {
            "text/html": [
              "<div>\n",
              "<style scoped>\n",
              "    .dataframe tbody tr th:only-of-type {\n",
              "        vertical-align: middle;\n",
              "    }\n",
              "\n",
              "    .dataframe tbody tr th {\n",
              "        vertical-align: top;\n",
              "    }\n",
              "\n",
              "    .dataframe thead th {\n",
              "        text-align: right;\n",
              "    }\n",
              "</style>\n",
              "<table border=\"1\" class=\"dataframe\">\n",
              "  <thead>\n",
              "    <tr style=\"text-align: right;\">\n",
              "      <th></th>\n",
              "      <th>Date</th>\n",
              "      <th>News</th>\n",
              "    </tr>\n",
              "  </thead>\n",
              "  <tbody>\n",
              "    <tr>\n",
              "      <th>0</th>\n",
              "      <td>2001-01-02 00:00:00.000000000</td>\n",
              "      <td>Status quo will not be disturbed at Ayodhya; s...</td>\n",
              "    </tr>\n",
              "    <tr>\n",
              "      <th>1</th>\n",
              "      <td>2001-01-03 00:00:00.000000000</td>\n",
              "      <td>Powerless north India gropes in the dark Think...</td>\n",
              "    </tr>\n",
              "    <tr>\n",
              "      <th>2</th>\n",
              "      <td>2001-01-04 00:00:00.000000000</td>\n",
              "      <td>The string that pulled Stephen Hawking to Indi...</td>\n",
              "    </tr>\n",
              "    <tr>\n",
              "      <th>3</th>\n",
              "      <td>2001-01-05 00:00:00.000000000</td>\n",
              "      <td>Light combat craft takes India into club class...</td>\n",
              "    </tr>\n",
              "    <tr>\n",
              "      <th>4</th>\n",
              "      <td>2001-01-06 00:00:00.000000000</td>\n",
              "      <td>Light combat craft takes India into club class...</td>\n",
              "    </tr>\n",
              "    <tr>\n",
              "      <th>...</th>\n",
              "      <td>...</td>\n",
              "      <td>...</td>\n",
              "    </tr>\n",
              "    <tr>\n",
              "      <th>7258</th>\n",
              "      <td>1970-01-01 00:00:00.020201227</td>\n",
              "      <td>#BigInterview! Dhritiman Chatterjee: Nobody da...</td>\n",
              "    </tr>\n",
              "    <tr>\n",
              "      <th>7259</th>\n",
              "      <td>1970-01-01 00:00:00.020201228</td>\n",
              "      <td>Horoscope Today; 28 December 2020: Check astro...</td>\n",
              "    </tr>\n",
              "    <tr>\n",
              "      <th>7260</th>\n",
              "      <td>1970-01-01 00:00:00.020201229</td>\n",
              "      <td>Man recovers charred remains of 'thief' from h...</td>\n",
              "    </tr>\n",
              "    <tr>\n",
              "      <th>7261</th>\n",
              "      <td>1970-01-01 00:00:00.020201230</td>\n",
              "      <td>Numerology Readings 30 December 2020: Predicti...</td>\n",
              "    </tr>\n",
              "    <tr>\n",
              "      <th>7262</th>\n",
              "      <td>1970-01-01 00:00:00.020201231</td>\n",
              "      <td>Horoscope Today; 31 December 2020: Check astro...</td>\n",
              "    </tr>\n",
              "  </tbody>\n",
              "</table>\n",
              "<p>7263 rows × 2 columns</p>\n",
              "</div>"
            ],
            "text/plain": [
              "                              Date                                               News\n",
              "0    2001-01-02 00:00:00.000000000  Status quo will not be disturbed at Ayodhya; s...\n",
              "1    2001-01-03 00:00:00.000000000  Powerless north India gropes in the dark Think...\n",
              "2    2001-01-04 00:00:00.000000000  The string that pulled Stephen Hawking to Indi...\n",
              "3    2001-01-05 00:00:00.000000000  Light combat craft takes India into club class...\n",
              "4    2001-01-06 00:00:00.000000000  Light combat craft takes India into club class...\n",
              "...                            ...                                                ...\n",
              "7258 1970-01-01 00:00:00.020201227  #BigInterview! Dhritiman Chatterjee: Nobody da...\n",
              "7259 1970-01-01 00:00:00.020201228  Horoscope Today; 28 December 2020: Check astro...\n",
              "7260 1970-01-01 00:00:00.020201229  Man recovers charred remains of 'thief' from h...\n",
              "7261 1970-01-01 00:00:00.020201230  Numerology Readings 30 December 2020: Predicti...\n",
              "7262 1970-01-01 00:00:00.020201231  Horoscope Today; 31 December 2020: Check astro...\n",
              "\n",
              "[7263 rows x 2 columns]"
            ]
          },
          "metadata": {
            "tags": []
          },
          "execution_count": 156
        }
      ]
    },
    {
      "cell_type": "code",
      "metadata": {
        "colab": {
          "base_uri": "https://localhost:8080/"
        },
        "id": "awMWxg3tUJMC",
        "outputId": "55527fb5-9e13-4ae8-80f3-c99a68a2be64"
      },
      "source": [
        "news['News']"
      ],
      "execution_count": 157,
      "outputs": [
        {
          "output_type": "execute_result",
          "data": {
            "text/plain": [
              "0       Status quo will not be disturbed at Ayodhya; s...\n",
              "1       Powerless north India gropes in the dark Think...\n",
              "2       The string that pulled Stephen Hawking to Indi...\n",
              "3       Light combat craft takes India into club class...\n",
              "4       Light combat craft takes India into club class...\n",
              "                              ...                        \n",
              "7258    #BigInterview! Dhritiman Chatterjee: Nobody da...\n",
              "7259    Horoscope Today; 28 December 2020: Check astro...\n",
              "7260    Man recovers charred remains of 'thief' from h...\n",
              "7261    Numerology Readings 30 December 2020: Predicti...\n",
              "7262    Horoscope Today; 31 December 2020: Check astro...\n",
              "Name: News, Length: 7263, dtype: object"
            ]
          },
          "metadata": {
            "tags": []
          },
          "execution_count": 157
        }
      ]
    },
    {
      "cell_type": "markdown",
      "metadata": {
        "id": "esokfktKUXfF"
      },
      "source": [
        "### Step 8 : Adding subjectivity and polarity Scores"
      ]
    },
    {
      "cell_type": "code",
      "metadata": {
        "id": "YRe3u3oxUJO7"
      },
      "source": [
        "#Functions to get the subjectivity and polarity\n",
        "def getSubjectivity(text):\n",
        "  return TextBlob(text).sentiment.subjectivity\n",
        "\n",
        "def getPolarity(text):\n",
        "  return  TextBlob(text).sentiment.polarity"
      ],
      "execution_count": 158,
      "outputs": []
    },
    {
      "cell_type": "code",
      "metadata": {
        "colab": {
          "base_uri": "https://localhost:8080/",
          "height": 419
        },
        "id": "sQbGwxUlUJRQ",
        "outputId": "d865ed31-aa9a-47b5-cbad-589609479859"
      },
      "source": [
        "#Adding subjectivity and polarity columns\n",
        "news['Subjectivity'] = news['News'].apply(getSubjectivity)\n",
        "news['Polarity'] = news['News'].apply(getPolarity)\n",
        "news"
      ],
      "execution_count": 159,
      "outputs": [
        {
          "output_type": "execute_result",
          "data": {
            "text/html": [
              "<div>\n",
              "<style scoped>\n",
              "    .dataframe tbody tr th:only-of-type {\n",
              "        vertical-align: middle;\n",
              "    }\n",
              "\n",
              "    .dataframe tbody tr th {\n",
              "        vertical-align: top;\n",
              "    }\n",
              "\n",
              "    .dataframe thead th {\n",
              "        text-align: right;\n",
              "    }\n",
              "</style>\n",
              "<table border=\"1\" class=\"dataframe\">\n",
              "  <thead>\n",
              "    <tr style=\"text-align: right;\">\n",
              "      <th></th>\n",
              "      <th>Date</th>\n",
              "      <th>News</th>\n",
              "      <th>Subjectivity</th>\n",
              "      <th>Polarity</th>\n",
              "    </tr>\n",
              "  </thead>\n",
              "  <tbody>\n",
              "    <tr>\n",
              "      <th>0</th>\n",
              "      <td>2001-01-02 00:00:00.000000000</td>\n",
              "      <td>Status quo will not be disturbed at Ayodhya; s...</td>\n",
              "      <td>0.282333</td>\n",
              "      <td>0.151333</td>\n",
              "    </tr>\n",
              "    <tr>\n",
              "      <th>1</th>\n",
              "      <td>2001-01-03 00:00:00.000000000</td>\n",
              "      <td>Powerless north India gropes in the dark Think...</td>\n",
              "      <td>0.407692</td>\n",
              "      <td>0.088462</td>\n",
              "    </tr>\n",
              "    <tr>\n",
              "      <th>2</th>\n",
              "      <td>2001-01-04 00:00:00.000000000</td>\n",
              "      <td>The string that pulled Stephen Hawking to Indi...</td>\n",
              "      <td>0.446847</td>\n",
              "      <td>0.087961</td>\n",
              "    </tr>\n",
              "    <tr>\n",
              "      <th>3</th>\n",
              "      <td>2001-01-05 00:00:00.000000000</td>\n",
              "      <td>Light combat craft takes India into club class...</td>\n",
              "      <td>0.476612</td>\n",
              "      <td>0.262024</td>\n",
              "    </tr>\n",
              "    <tr>\n",
              "      <th>4</th>\n",
              "      <td>2001-01-06 00:00:00.000000000</td>\n",
              "      <td>Light combat craft takes India into club class...</td>\n",
              "      <td>0.439394</td>\n",
              "      <td>0.248485</td>\n",
              "    </tr>\n",
              "    <tr>\n",
              "      <th>...</th>\n",
              "      <td>...</td>\n",
              "      <td>...</td>\n",
              "      <td>...</td>\n",
              "      <td>...</td>\n",
              "    </tr>\n",
              "    <tr>\n",
              "      <th>7258</th>\n",
              "      <td>1970-01-01 00:00:00.020201227</td>\n",
              "      <td>#BigInterview! Dhritiman Chatterjee: Nobody da...</td>\n",
              "      <td>0.395808</td>\n",
              "      <td>0.035886</td>\n",
              "    </tr>\n",
              "    <tr>\n",
              "      <th>7259</th>\n",
              "      <td>1970-01-01 00:00:00.020201228</td>\n",
              "      <td>Horoscope Today; 28 December 2020: Check astro...</td>\n",
              "      <td>0.412945</td>\n",
              "      <td>0.070517</td>\n",
              "    </tr>\n",
              "    <tr>\n",
              "      <th>7260</th>\n",
              "      <td>1970-01-01 00:00:00.020201229</td>\n",
              "      <td>Man recovers charred remains of 'thief' from h...</td>\n",
              "      <td>0.424021</td>\n",
              "      <td>0.061210</td>\n",
              "    </tr>\n",
              "    <tr>\n",
              "      <th>7261</th>\n",
              "      <td>1970-01-01 00:00:00.020201230</td>\n",
              "      <td>Numerology Readings 30 December 2020: Predicti...</td>\n",
              "      <td>0.441660</td>\n",
              "      <td>0.043496</td>\n",
              "    </tr>\n",
              "    <tr>\n",
              "      <th>7262</th>\n",
              "      <td>1970-01-01 00:00:00.020201231</td>\n",
              "      <td>Horoscope Today; 31 December 2020: Check astro...</td>\n",
              "      <td>0.406220</td>\n",
              "      <td>0.091373</td>\n",
              "    </tr>\n",
              "  </tbody>\n",
              "</table>\n",
              "<p>7263 rows × 4 columns</p>\n",
              "</div>"
            ],
            "text/plain": [
              "                              Date  ...  Polarity\n",
              "0    2001-01-02 00:00:00.000000000  ...  0.151333\n",
              "1    2001-01-03 00:00:00.000000000  ...  0.088462\n",
              "2    2001-01-04 00:00:00.000000000  ...  0.087961\n",
              "3    2001-01-05 00:00:00.000000000  ...  0.262024\n",
              "4    2001-01-06 00:00:00.000000000  ...  0.248485\n",
              "...                            ...  ...       ...\n",
              "7258 1970-01-01 00:00:00.020201227  ...  0.035886\n",
              "7259 1970-01-01 00:00:00.020201228  ...  0.070517\n",
              "7260 1970-01-01 00:00:00.020201229  ...  0.061210\n",
              "7261 1970-01-01 00:00:00.020201230  ...  0.043496\n",
              "7262 1970-01-01 00:00:00.020201231  ...  0.091373\n",
              "\n",
              "[7263 rows x 4 columns]"
            ]
          },
          "metadata": {
            "tags": []
          },
          "execution_count": 159
        }
      ]
    },
    {
      "cell_type": "markdown",
      "metadata": {
        "id": "CTqNsKRdUlb9"
      },
      "source": [
        "### Step 9 : Visualizing the polarity and Subjectivity scores"
      ]
    },
    {
      "cell_type": "code",
      "metadata": {
        "colab": {
          "base_uri": "https://localhost:8080/",
          "height": 391
        },
        "id": "adNT5fVVUJUe",
        "outputId": "bb30319b-e1e1-4ca1-bd00-29f9db41c0c3"
      },
      "source": [
        "plt.figure(figsize = (10,6))\n",
        "news['Polarity'].hist(color = 'red')"
      ],
      "execution_count": 160,
      "outputs": [
        {
          "output_type": "execute_result",
          "data": {
            "text/plain": [
              "<matplotlib.axes._subplots.AxesSubplot at 0x7fc7732c4250>"
            ]
          },
          "metadata": {
            "tags": []
          },
          "execution_count": 160
        },
        {
          "output_type": "display_data",
          "data": {
            "image/png": "[encoded data removed]",
            "text/plain": [
              "<Figure size 720x432 with 1 Axes>"
            ]
          },
          "metadata": {
            "tags": [],
            "needs_background": "light"
          }
        }
      ]
    },
    {
      "cell_type": "code",
      "metadata": {
        "colab": {
          "base_uri": "https://localhost:8080/",
          "height": 391
        },
        "id": "GiQFt6zRUJXL",
        "outputId": "0b88a16c-d6f9-4906-f48d-e1221be0ca42"
      },
      "source": [
        "plt.figure(figsize = (10,6))\n",
        "news['Subjectivity'].hist(color = 'green')"
      ],
      "execution_count": 161,
      "outputs": [
        {
          "output_type": "execute_result",
          "data": {
            "text/plain": [
              "<matplotlib.axes._subplots.AxesSubplot at 0x7fc771b33450>"
            ]
          },
          "metadata": {
            "tags": []
          },
          "execution_count": 161
        },
        {
          "output_type": "display_data",
          "data": {
            "image/png": "[encoded data removed]",
            "text/plain": [
              "<Figure size 720x432 with 1 Axes>"
            ]
          },
          "metadata": {
            "tags": [],
            "needs_background": "light"
          }
        }
      ]
    },
    {
      "cell_type": "markdown",
      "metadata": {
        "id": "bmE3c1GsV2CV"
      },
      "source": [
        "Step 10 : Performing Sentiment Analysis over the news Headlines\n"
      ]
    },
    {
      "cell_type": "code",
      "metadata": {
        "colab": {
          "base_uri": "https://localhost:8080/",
          "height": 419
        },
        "id": "5IKqgTStUJa4",
        "outputId": "7a97831e-9a38-44bd-b224-4a17b4673e17"
      },
      "source": [
        "#Adding sentiment score to news\n",
        "sia = SentimentIntensityAnalyzer()\n",
        "\n",
        "news['Compound'] = [sia.polarity_scores(v)['compound'] for v in news['News']]\n",
        "news['Negative'] = [sia.polarity_scores(v)['neg'] for v in news['News']]\n",
        "news['Neutral'] = [sia.polarity_scores(v)['neu'] for v in news['News']]\n",
        "news['Positive'] = [sia.polarity_scores(v)['pos'] for v in news['News']]\n",
        "news"
      ],
      "execution_count": 162,
      "outputs": [
        {
          "output_type": "execute_result",
          "data": {
            "text/html": [
              "<div>\n",
              "<style scoped>\n",
              "    .dataframe tbody tr th:only-of-type {\n",
              "        vertical-align: middle;\n",
              "    }\n",
              "\n",
              "    .dataframe tbody tr th {\n",
              "        vertical-align: top;\n",
              "    }\n",
              "\n",
              "    .dataframe thead th {\n",
              "        text-align: right;\n",
              "    }\n",
              "</style>\n",
              "<table border=\"1\" class=\"dataframe\">\n",
              "  <thead>\n",
              "    <tr style=\"text-align: right;\">\n",
              "      <th></th>\n",
              "      <th>Date</th>\n",
              "      <th>News</th>\n",
              "      <th>Subjectivity</th>\n",
              "      <th>Polarity</th>\n",
              "      <th>Compound</th>\n",
              "      <th>Negative</th>\n",
              "      <th>Neutral</th>\n",
              "      <th>Positive</th>\n",
              "    </tr>\n",
              "  </thead>\n",
              "  <tbody>\n",
              "    <tr>\n",
              "      <th>0</th>\n",
              "      <td>2001-01-02 00:00:00.000000000</td>\n",
              "      <td>Status quo will not be disturbed at Ayodhya; s...</td>\n",
              "      <td>0.282333</td>\n",
              "      <td>0.151333</td>\n",
              "      <td>-0.9811</td>\n",
              "      <td>0.122</td>\n",
              "      <td>0.807</td>\n",
              "      <td>0.071</td>\n",
              "    </tr>\n",
              "    <tr>\n",
              "      <th>1</th>\n",
              "      <td>2001-01-03 00:00:00.000000000</td>\n",
              "      <td>Powerless north India gropes in the dark Think...</td>\n",
              "      <td>0.407692</td>\n",
              "      <td>0.088462</td>\n",
              "      <td>-0.2640</td>\n",
              "      <td>0.122</td>\n",
              "      <td>0.766</td>\n",
              "      <td>0.111</td>\n",
              "    </tr>\n",
              "    <tr>\n",
              "      <th>2</th>\n",
              "      <td>2001-01-04 00:00:00.000000000</td>\n",
              "      <td>The string that pulled Stephen Hawking to Indi...</td>\n",
              "      <td>0.446847</td>\n",
              "      <td>0.087961</td>\n",
              "      <td>0.8738</td>\n",
              "      <td>0.100</td>\n",
              "      <td>0.797</td>\n",
              "      <td>0.103</td>\n",
              "    </tr>\n",
              "    <tr>\n",
              "      <th>3</th>\n",
              "      <td>2001-01-05 00:00:00.000000000</td>\n",
              "      <td>Light combat craft takes India into club class...</td>\n",
              "      <td>0.476612</td>\n",
              "      <td>0.262024</td>\n",
              "      <td>0.9633</td>\n",
              "      <td>0.124</td>\n",
              "      <td>0.722</td>\n",
              "      <td>0.154</td>\n",
              "    </tr>\n",
              "    <tr>\n",
              "      <th>4</th>\n",
              "      <td>2001-01-06 00:00:00.000000000</td>\n",
              "      <td>Light combat craft takes India into club class...</td>\n",
              "      <td>0.439394</td>\n",
              "      <td>0.248485</td>\n",
              "      <td>-0.4215</td>\n",
              "      <td>0.152</td>\n",
              "      <td>0.704</td>\n",
              "      <td>0.143</td>\n",
              "    </tr>\n",
              "    <tr>\n",
              "      <th>...</th>\n",
              "      <td>...</td>\n",
              "      <td>...</td>\n",
              "      <td>...</td>\n",
              "      <td>...</td>\n",
              "      <td>...</td>\n",
              "      <td>...</td>\n",
              "      <td>...</td>\n",
              "      <td>...</td>\n",
              "    </tr>\n",
              "    <tr>\n",
              "      <th>7258</th>\n",
              "      <td>1970-01-01 00:00:00.020201227</td>\n",
              "      <td>#BigInterview! Dhritiman Chatterjee: Nobody da...</td>\n",
              "      <td>0.395808</td>\n",
              "      <td>0.035886</td>\n",
              "      <td>-0.9997</td>\n",
              "      <td>0.126</td>\n",
              "      <td>0.798</td>\n",
              "      <td>0.076</td>\n",
              "    </tr>\n",
              "    <tr>\n",
              "      <th>7259</th>\n",
              "      <td>1970-01-01 00:00:00.020201228</td>\n",
              "      <td>Horoscope Today; 28 December 2020: Check astro...</td>\n",
              "      <td>0.412945</td>\n",
              "      <td>0.070517</td>\n",
              "      <td>-0.9998</td>\n",
              "      <td>0.137</td>\n",
              "      <td>0.771</td>\n",
              "      <td>0.092</td>\n",
              "    </tr>\n",
              "    <tr>\n",
              "      <th>7260</th>\n",
              "      <td>1970-01-01 00:00:00.020201229</td>\n",
              "      <td>Man recovers charred remains of 'thief' from h...</td>\n",
              "      <td>0.424021</td>\n",
              "      <td>0.061210</td>\n",
              "      <td>-0.9999</td>\n",
              "      <td>0.148</td>\n",
              "      <td>0.758</td>\n",
              "      <td>0.094</td>\n",
              "    </tr>\n",
              "    <tr>\n",
              "      <th>7261</th>\n",
              "      <td>1970-01-01 00:00:00.020201230</td>\n",
              "      <td>Numerology Readings 30 December 2020: Predicti...</td>\n",
              "      <td>0.441660</td>\n",
              "      <td>0.043496</td>\n",
              "      <td>-0.9999</td>\n",
              "      <td>0.141</td>\n",
              "      <td>0.780</td>\n",
              "      <td>0.079</td>\n",
              "    </tr>\n",
              "    <tr>\n",
              "      <th>7262</th>\n",
              "      <td>1970-01-01 00:00:00.020201231</td>\n",
              "      <td>Horoscope Today; 31 December 2020: Check astro...</td>\n",
              "      <td>0.406220</td>\n",
              "      <td>0.091373</td>\n",
              "      <td>-0.9998</td>\n",
              "      <td>0.136</td>\n",
              "      <td>0.766</td>\n",
              "      <td>0.098</td>\n",
              "    </tr>\n",
              "  </tbody>\n",
              "</table>\n",
              "<p>7263 rows × 8 columns</p>\n",
              "</div>"
            ],
            "text/plain": [
              "                              Date  ... Positive\n",
              "0    2001-01-02 00:00:00.000000000  ...    0.071\n",
              "1    2001-01-03 00:00:00.000000000  ...    0.111\n",
              "2    2001-01-04 00:00:00.000000000  ...    0.103\n",
              "3    2001-01-05 00:00:00.000000000  ...    0.154\n",
              "4    2001-01-06 00:00:00.000000000  ...    0.143\n",
              "...                            ...  ...      ...\n",
              "7258 1970-01-01 00:00:00.020201227  ...    0.076\n",
              "7259 1970-01-01 00:00:00.020201228  ...    0.092\n",
              "7260 1970-01-01 00:00:00.020201229  ...    0.094\n",
              "7261 1970-01-01 00:00:00.020201230  ...    0.079\n",
              "7262 1970-01-01 00:00:00.020201231  ...    0.098\n",
              "\n",
              "[7263 rows x 8 columns]"
            ]
          },
          "metadata": {
            "tags": []
          },
          "execution_count": 162
        }
      ]
    },
    {
      "cell_type": "markdown",
      "metadata": {
        "id": "N7jYOmSgW6d8"
      },
      "source": [
        "### Step 11 : Merging the numerical and textual data"
      ]
    },
    {
      "cell_type": "code",
      "metadata": {
        "colab": {
          "base_uri": "https://localhost:8080/",
          "height": 419
        },
        "id": "WqJNZgZdR_Bx",
        "outputId": "dc5abe08-5277-46bd-9262-578789b56dec"
      },
      "source": [
        "merge = news\n",
        "merge"
      ],
      "execution_count": 165,
      "outputs": [
        {
          "output_type": "execute_result",
          "data": {
            "text/html": [
              "<div>\n",
              "<style scoped>\n",
              "    .dataframe tbody tr th:only-of-type {\n",
              "        vertical-align: middle;\n",
              "    }\n",
              "\n",
              "    .dataframe tbody tr th {\n",
              "        vertical-align: top;\n",
              "    }\n",
              "\n",
              "    .dataframe thead th {\n",
              "        text-align: right;\n",
              "    }\n",
              "</style>\n",
              "<table border=\"1\" class=\"dataframe\">\n",
              "  <thead>\n",
              "    <tr style=\"text-align: right;\">\n",
              "      <th></th>\n",
              "      <th>Date</th>\n",
              "      <th>News</th>\n",
              "      <th>Subjectivity</th>\n",
              "      <th>Polarity</th>\n",
              "      <th>Compound</th>\n",
              "      <th>Negative</th>\n",
              "      <th>Neutral</th>\n",
              "      <th>Positive</th>\n",
              "    </tr>\n",
              "  </thead>\n",
              "  <tbody>\n",
              "    <tr>\n",
              "      <th>0</th>\n",
              "      <td>2001-01-02 00:00:00.000000000</td>\n",
              "      <td>Status quo will not be disturbed at Ayodhya; s...</td>\n",
              "      <td>0.282333</td>\n",
              "      <td>0.151333</td>\n",
              "      <td>-0.9811</td>\n",
              "      <td>0.122</td>\n",
              "      <td>0.807</td>\n",
              "      <td>0.071</td>\n",
              "    </tr>\n",
              "    <tr>\n",
              "      <th>1</th>\n",
              "      <td>2001-01-03 00:00:00.000000000</td>\n",
              "      <td>Powerless north India gropes in the dark Think...</td>\n",
              "      <td>0.407692</td>\n",
              "      <td>0.088462</td>\n",
              "      <td>-0.2640</td>\n",
              "      <td>0.122</td>\n",
              "      <td>0.766</td>\n",
              "      <td>0.111</td>\n",
              "    </tr>\n",
              "    <tr>\n",
              "      <th>2</th>\n",
              "      <td>2001-01-04 00:00:00.000000000</td>\n",
              "      <td>The string that pulled Stephen Hawking to Indi...</td>\n",
              "      <td>0.446847</td>\n",
              "      <td>0.087961</td>\n",
              "      <td>0.8738</td>\n",
              "      <td>0.100</td>\n",
              "      <td>0.797</td>\n",
              "      <td>0.103</td>\n",
              "    </tr>\n",
              "    <tr>\n",
              "      <th>3</th>\n",
              "      <td>2001-01-05 00:00:00.000000000</td>\n",
              "      <td>Light combat craft takes India into club class...</td>\n",
              "      <td>0.476612</td>\n",
              "      <td>0.262024</td>\n",
              "      <td>0.9633</td>\n",
              "      <td>0.124</td>\n",
              "      <td>0.722</td>\n",
              "      <td>0.154</td>\n",
              "    </tr>\n",
              "    <tr>\n",
              "      <th>4</th>\n",
              "      <td>2001-01-06 00:00:00.000000000</td>\n",
              "      <td>Light combat craft takes India into club class...</td>\n",
              "      <td>0.439394</td>\n",
              "      <td>0.248485</td>\n",
              "      <td>-0.4215</td>\n",
              "      <td>0.152</td>\n",
              "      <td>0.704</td>\n",
              "      <td>0.143</td>\n",
              "    </tr>\n",
              "    <tr>\n",
              "      <th>...</th>\n",
              "      <td>...</td>\n",
              "      <td>...</td>\n",
              "      <td>...</td>\n",
              "      <td>...</td>\n",
              "      <td>...</td>\n",
              "      <td>...</td>\n",
              "      <td>...</td>\n",
              "      <td>...</td>\n",
              "    </tr>\n",
              "    <tr>\n",
              "      <th>7258</th>\n",
              "      <td>1970-01-01 00:00:00.020201227</td>\n",
              "      <td>#BigInterview! Dhritiman Chatterjee: Nobody da...</td>\n",
              "      <td>0.395808</td>\n",
              "      <td>0.035886</td>\n",
              "      <td>-0.9997</td>\n",
              "      <td>0.126</td>\n",
              "      <td>0.798</td>\n",
              "      <td>0.076</td>\n",
              "    </tr>\n",
              "    <tr>\n",
              "      <th>7259</th>\n",
              "      <td>1970-01-01 00:00:00.020201228</td>\n",
              "      <td>Horoscope Today; 28 December 2020: Check astro...</td>\n",
              "      <td>0.412945</td>\n",
              "      <td>0.070517</td>\n",
              "      <td>-0.9998</td>\n",
              "      <td>0.137</td>\n",
              "      <td>0.771</td>\n",
              "      <td>0.092</td>\n",
              "    </tr>\n",
              "    <tr>\n",
              "      <th>7260</th>\n",
              "      <td>1970-01-01 00:00:00.020201229</td>\n",
              "      <td>Man recovers charred remains of 'thief' from h...</td>\n",
              "      <td>0.424021</td>\n",
              "      <td>0.061210</td>\n",
              "      <td>-0.9999</td>\n",
              "      <td>0.148</td>\n",
              "      <td>0.758</td>\n",
              "      <td>0.094</td>\n",
              "    </tr>\n",
              "    <tr>\n",
              "      <th>7261</th>\n",
              "      <td>1970-01-01 00:00:00.020201230</td>\n",
              "      <td>Numerology Readings 30 December 2020: Predicti...</td>\n",
              "      <td>0.441660</td>\n",
              "      <td>0.043496</td>\n",
              "      <td>-0.9999</td>\n",
              "      <td>0.141</td>\n",
              "      <td>0.780</td>\n",
              "      <td>0.079</td>\n",
              "    </tr>\n",
              "    <tr>\n",
              "      <th>7262</th>\n",
              "      <td>1970-01-01 00:00:00.020201231</td>\n",
              "      <td>Horoscope Today; 31 December 2020: Check astro...</td>\n",
              "      <td>0.406220</td>\n",
              "      <td>0.091373</td>\n",
              "      <td>-0.9998</td>\n",
              "      <td>0.136</td>\n",
              "      <td>0.766</td>\n",
              "      <td>0.098</td>\n",
              "    </tr>\n",
              "  </tbody>\n",
              "</table>\n",
              "<p>7263 rows × 8 columns</p>\n",
              "</div>"
            ],
            "text/plain": [
              "                              Date  ... Positive\n",
              "0    2001-01-02 00:00:00.000000000  ...    0.071\n",
              "1    2001-01-03 00:00:00.000000000  ...    0.111\n",
              "2    2001-01-04 00:00:00.000000000  ...    0.103\n",
              "3    2001-01-05 00:00:00.000000000  ...    0.154\n",
              "4    2001-01-06 00:00:00.000000000  ...    0.143\n",
              "...                            ...  ...      ...\n",
              "7258 1970-01-01 00:00:00.020201227  ...    0.076\n",
              "7259 1970-01-01 00:00:00.020201228  ...    0.092\n",
              "7260 1970-01-01 00:00:00.020201229  ...    0.094\n",
              "7261 1970-01-01 00:00:00.020201230  ...    0.079\n",
              "7262 1970-01-01 00:00:00.020201231  ...    0.098\n",
              "\n",
              "[7263 rows x 8 columns]"
            ]
          },
          "metadata": {
            "tags": []
          },
          "execution_count": 165
        }
      ]
    },
    {
      "cell_type": "code",
      "metadata": {
        "colab": {
          "base_uri": "https://localhost:8080/",
          "height": 419
        },
        "id": "A0dY0NJoR--U",
        "outputId": "625a6fd8-270e-4683-9607-72f4f0b1099a"
      },
      "source": [
        "dff = merge[['Subjectivity', 'Polarity', 'Compound', 'Negative', 'Neutral' ,'Positive']]\n",
        "dff"
      ],
      "execution_count": 164,
      "outputs": [
        {
          "output_type": "execute_result",
          "data": {
            "text/html": [
              "<div>\n",
              "<style scoped>\n",
              "    .dataframe tbody tr th:only-of-type {\n",
              "        vertical-align: middle;\n",
              "    }\n",
              "\n",
              "    .dataframe tbody tr th {\n",
              "        vertical-align: top;\n",
              "    }\n",
              "\n",
              "    .dataframe thead th {\n",
              "        text-align: right;\n",
              "    }\n",
              "</style>\n",
              "<table border=\"1\" class=\"dataframe\">\n",
              "  <thead>\n",
              "    <tr style=\"text-align: right;\">\n",
              "      <th></th>\n",
              "      <th>Subjectivity</th>\n",
              "      <th>Polarity</th>\n",
              "      <th>Compound</th>\n",
              "      <th>Negative</th>\n",
              "      <th>Neutral</th>\n",
              "      <th>Positive</th>\n",
              "    </tr>\n",
              "  </thead>\n",
              "  <tbody>\n",
              "    <tr>\n",
              "      <th>0</th>\n",
              "      <td>0.282333</td>\n",
              "      <td>0.151333</td>\n",
              "      <td>-0.9811</td>\n",
              "      <td>0.122</td>\n",
              "      <td>0.807</td>\n",
              "      <td>0.071</td>\n",
              "    </tr>\n",
              "    <tr>\n",
              "      <th>1</th>\n",
              "      <td>0.407692</td>\n",
              "      <td>0.088462</td>\n",
              "      <td>-0.2640</td>\n",
              "      <td>0.122</td>\n",
              "      <td>0.766</td>\n",
              "      <td>0.111</td>\n",
              "    </tr>\n",
              "    <tr>\n",
              "      <th>2</th>\n",
              "      <td>0.446847</td>\n",
              "      <td>0.087961</td>\n",
              "      <td>0.8738</td>\n",
              "      <td>0.100</td>\n",
              "      <td>0.797</td>\n",
              "      <td>0.103</td>\n",
              "    </tr>\n",
              "    <tr>\n",
              "      <th>3</th>\n",
              "      <td>0.476612</td>\n",
              "      <td>0.262024</td>\n",
              "      <td>0.9633</td>\n",
              "      <td>0.124</td>\n",
              "      <td>0.722</td>\n",
              "      <td>0.154</td>\n",
              "    </tr>\n",
              "    <tr>\n",
              "      <th>4</th>\n",
              "      <td>0.439394</td>\n",
              "      <td>0.248485</td>\n",
              "      <td>-0.4215</td>\n",
              "      <td>0.152</td>\n",
              "      <td>0.704</td>\n",
              "      <td>0.143</td>\n",
              "    </tr>\n",
              "    <tr>\n",
              "      <th>...</th>\n",
              "      <td>...</td>\n",
              "      <td>...</td>\n",
              "      <td>...</td>\n",
              "      <td>...</td>\n",
              "      <td>...</td>\n",
              "      <td>...</td>\n",
              "    </tr>\n",
              "    <tr>\n",
              "      <th>7258</th>\n",
              "      <td>0.395808</td>\n",
              "      <td>0.035886</td>\n",
              "      <td>-0.9997</td>\n",
              "      <td>0.126</td>\n",
              "      <td>0.798</td>\n",
              "      <td>0.076</td>\n",
              "    </tr>\n",
              "    <tr>\n",
              "      <th>7259</th>\n",
              "      <td>0.412945</td>\n",
              "      <td>0.070517</td>\n",
              "      <td>-0.9998</td>\n",
              "      <td>0.137</td>\n",
              "      <td>0.771</td>\n",
              "      <td>0.092</td>\n",
              "    </tr>\n",
              "    <tr>\n",
              "      <th>7260</th>\n",
              "      <td>0.424021</td>\n",
              "      <td>0.061210</td>\n",
              "      <td>-0.9999</td>\n",
              "      <td>0.148</td>\n",
              "      <td>0.758</td>\n",
              "      <td>0.094</td>\n",
              "    </tr>\n",
              "    <tr>\n",
              "      <th>7261</th>\n",
              "      <td>0.441660</td>\n",
              "      <td>0.043496</td>\n",
              "      <td>-0.9999</td>\n",
              "      <td>0.141</td>\n",
              "      <td>0.780</td>\n",
              "      <td>0.079</td>\n",
              "    </tr>\n",
              "    <tr>\n",
              "      <th>7262</th>\n",
              "      <td>0.406220</td>\n",
              "      <td>0.091373</td>\n",
              "      <td>-0.9998</td>\n",
              "      <td>0.136</td>\n",
              "      <td>0.766</td>\n",
              "      <td>0.098</td>\n",
              "    </tr>\n",
              "  </tbody>\n",
              "</table>\n",
              "<p>7263 rows × 6 columns</p>\n",
              "</div>"
            ],
            "text/plain": [
              "      Subjectivity  Polarity  Compound  Negative  Neutral  Positive\n",
              "0         0.282333  0.151333   -0.9811     0.122    0.807     0.071\n",
              "1         0.407692  0.088462   -0.2640     0.122    0.766     0.111\n",
              "2         0.446847  0.087961    0.8738     0.100    0.797     0.103\n",
              "3         0.476612  0.262024    0.9633     0.124    0.722     0.154\n",
              "4         0.439394  0.248485   -0.4215     0.152    0.704     0.143\n",
              "...            ...       ...       ...       ...      ...       ...\n",
              "7258      0.395808  0.035886   -0.9997     0.126    0.798     0.076\n",
              "7259      0.412945  0.070517   -0.9998     0.137    0.771     0.092\n",
              "7260      0.424021  0.061210   -0.9999     0.148    0.758     0.094\n",
              "7261      0.441660  0.043496   -0.9999     0.141    0.780     0.079\n",
              "7262      0.406220  0.091373   -0.9998     0.136    0.766     0.098\n",
              "\n",
              "[7263 rows x 6 columns]"
            ]
          },
          "metadata": {
            "tags": []
          },
          "execution_count": 164
        }
      ]
    },
    {
      "cell_type": "code",
      "metadata": {
        "colab": {
          "base_uri": "https://localhost:8080/",
          "height": 204
        },
        "id": "gF7Ic5UBR-7t",
        "outputId": "af48c8b8-7f8a-4654-b49e-733e62eaab40"
      },
      "source": [
        "from sklearn.preprocessing import MinMaxScaler\n",
        "sc = MinMaxScaler()\n",
        "new_df = pd.DataFrame(sc.fit_transform(dff))\n",
        "new_df.columns = dff.columns\n",
        "new_df.index = dff.index\n",
        "new_df.head()"
      ],
      "execution_count": 171,
      "outputs": [
        {
          "output_type": "execute_result",
          "data": {
            "text/html": [
              "<div>\n",
              "<style scoped>\n",
              "    .dataframe tbody tr th:only-of-type {\n",
              "        vertical-align: middle;\n",
              "    }\n",
              "\n",
              "    .dataframe tbody tr th {\n",
              "        vertical-align: top;\n",
              "    }\n",
              "\n",
              "    .dataframe thead th {\n",
              "        text-align: right;\n",
              "    }\n",
              "</style>\n",
              "<table border=\"1\" class=\"dataframe\">\n",
              "  <thead>\n",
              "    <tr style=\"text-align: right;\">\n",
              "      <th></th>\n",
              "      <th>Subjectivity</th>\n",
              "      <th>Polarity</th>\n",
              "      <th>Compound</th>\n",
              "      <th>Negative</th>\n",
              "      <th>Neutral</th>\n",
              "      <th>Positive</th>\n",
              "    </tr>\n",
              "  </thead>\n",
              "  <tbody>\n",
              "    <tr>\n",
              "      <th>0</th>\n",
              "      <td>0.282333</td>\n",
              "      <td>0.427407</td>\n",
              "      <td>0.00945</td>\n",
              "      <td>0.274775</td>\n",
              "      <td>0.807</td>\n",
              "      <td>0.116776</td>\n",
              "    </tr>\n",
              "    <tr>\n",
              "      <th>1</th>\n",
              "      <td>0.407692</td>\n",
              "      <td>0.357550</td>\n",
              "      <td>0.36800</td>\n",
              "      <td>0.274775</td>\n",
              "      <td>0.766</td>\n",
              "      <td>0.182566</td>\n",
              "    </tr>\n",
              "    <tr>\n",
              "      <th>2</th>\n",
              "      <td>0.446847</td>\n",
              "      <td>0.356994</td>\n",
              "      <td>0.93690</td>\n",
              "      <td>0.225225</td>\n",
              "      <td>0.797</td>\n",
              "      <td>0.169408</td>\n",
              "    </tr>\n",
              "    <tr>\n",
              "      <th>3</th>\n",
              "      <td>0.476612</td>\n",
              "      <td>0.550397</td>\n",
              "      <td>0.98165</td>\n",
              "      <td>0.279279</td>\n",
              "      <td>0.722</td>\n",
              "      <td>0.253289</td>\n",
              "    </tr>\n",
              "    <tr>\n",
              "      <th>4</th>\n",
              "      <td>0.439394</td>\n",
              "      <td>0.535354</td>\n",
              "      <td>0.28925</td>\n",
              "      <td>0.342342</td>\n",
              "      <td>0.704</td>\n",
              "      <td>0.235197</td>\n",
              "    </tr>\n",
              "  </tbody>\n",
              "</table>\n",
              "</div>"
            ],
            "text/plain": [
              "   Subjectivity  Polarity  Compound  Negative  Neutral  Positive\n",
              "0      0.282333  0.427407   0.00945  0.274775    0.807  0.116776\n",
              "1      0.407692  0.357550   0.36800  0.274775    0.766  0.182566\n",
              "2      0.446847  0.356994   0.93690  0.225225    0.797  0.169408\n",
              "3      0.476612  0.550397   0.98165  0.279279    0.722  0.253289\n",
              "4      0.439394  0.535354   0.28925  0.342342    0.704  0.235197"
            ]
          },
          "metadata": {
            "tags": []
          },
          "execution_count": 171
        }
      ]
    },
    {
      "cell_type": "code",
      "metadata": {
        "id": "vjPCc-p-R-2p"
      },
      "source": [
        "X = new_df[0:250]\n",
        "y =df['Close']"
      ],
      "execution_count": 177,
      "outputs": []
    },
    {
      "cell_type": "code",
      "metadata": {
        "colab": {
          "base_uri": "https://localhost:8080/"
        },
        "id": "lW_7nOY7XE1s",
        "outputId": "d5e72b4a-225d-4cac-f8ce-27f9aa100ea1"
      },
      "source": [
        "from sklearn.model_selection import train_test_split\n",
        "\n",
        "x_train, x_test, y_train, y_test = train_test_split(X, y, test_size=0.2, random_state = 0)\n",
        "x_train.shape"
      ],
      "execution_count": 178,
      "outputs": [
        {
          "output_type": "execute_result",
          "data": {
            "text/plain": [
              "(200, 6)"
            ]
          },
          "metadata": {
            "tags": []
          },
          "execution_count": 178
        }
      ]
    },
    {
      "cell_type": "code",
      "metadata": {
        "colab": {
          "base_uri": "https://localhost:8080/",
          "height": 359
        },
        "id": "Xi-VhUMxXE5M",
        "outputId": "70982dea-d317-4fcd-d3ad-d4e94735424e"
      },
      "source": [
        "x_train[:10]"
      ],
      "execution_count": 179,
      "outputs": [
        {
          "output_type": "execute_result",
          "data": {
            "text/html": [
              "<div>\n",
              "<style scoped>\n",
              "    .dataframe tbody tr th:only-of-type {\n",
              "        vertical-align: middle;\n",
              "    }\n",
              "\n",
              "    .dataframe tbody tr th {\n",
              "        vertical-align: top;\n",
              "    }\n",
              "\n",
              "    .dataframe thead th {\n",
              "        text-align: right;\n",
              "    }\n",
              "</style>\n",
              "<table border=\"1\" class=\"dataframe\">\n",
              "  <thead>\n",
              "    <tr style=\"text-align: right;\">\n",
              "      <th></th>\n",
              "      <th>Subjectivity</th>\n",
              "      <th>Polarity</th>\n",
              "      <th>Compound</th>\n",
              "      <th>Negative</th>\n",
              "      <th>Neutral</th>\n",
              "      <th>Positive</th>\n",
              "    </tr>\n",
              "  </thead>\n",
              "  <tbody>\n",
              "    <tr>\n",
              "      <th>71</th>\n",
              "      <td>0.410909</td>\n",
              "      <td>0.388328</td>\n",
              "      <td>0.85655</td>\n",
              "      <td>0.180180</td>\n",
              "      <td>0.833</td>\n",
              "      <td>0.143092</td>\n",
              "    </tr>\n",
              "    <tr>\n",
              "      <th>160</th>\n",
              "      <td>0.340023</td>\n",
              "      <td>0.242115</td>\n",
              "      <td>0.00090</td>\n",
              "      <td>0.337838</td>\n",
              "      <td>0.774</td>\n",
              "      <td>0.125000</td>\n",
              "    </tr>\n",
              "    <tr>\n",
              "      <th>180</th>\n",
              "      <td>0.421230</td>\n",
              "      <td>0.376940</td>\n",
              "      <td>0.00200</td>\n",
              "      <td>0.335586</td>\n",
              "      <td>0.738</td>\n",
              "      <td>0.185855</td>\n",
              "    </tr>\n",
              "    <tr>\n",
              "      <th>75</th>\n",
              "      <td>0.415278</td>\n",
              "      <td>0.196759</td>\n",
              "      <td>0.03055</td>\n",
              "      <td>0.265766</td>\n",
              "      <td>0.828</td>\n",
              "      <td>0.090461</td>\n",
              "    </tr>\n",
              "    <tr>\n",
              "      <th>59</th>\n",
              "      <td>0.493362</td>\n",
              "      <td>0.476381</td>\n",
              "      <td>0.08270</td>\n",
              "      <td>0.376126</td>\n",
              "      <td>0.705</td>\n",
              "      <td>0.210526</td>\n",
              "    </tr>\n",
              "    <tr>\n",
              "      <th>101</th>\n",
              "      <td>0.424206</td>\n",
              "      <td>0.369048</td>\n",
              "      <td>0.13655</td>\n",
              "      <td>0.286036</td>\n",
              "      <td>0.762</td>\n",
              "      <td>0.182566</td>\n",
              "    </tr>\n",
              "    <tr>\n",
              "      <th>229</th>\n",
              "      <td>0.383692</td>\n",
              "      <td>0.296192</td>\n",
              "      <td>0.00040</td>\n",
              "      <td>0.333333</td>\n",
              "      <td>0.760</td>\n",
              "      <td>0.152961</td>\n",
              "    </tr>\n",
              "    <tr>\n",
              "      <th>18</th>\n",
              "      <td>0.410714</td>\n",
              "      <td>0.361523</td>\n",
              "      <td>0.12245</td>\n",
              "      <td>0.297297</td>\n",
              "      <td>0.744</td>\n",
              "      <td>0.203947</td>\n",
              "    </tr>\n",
              "    <tr>\n",
              "      <th>188</th>\n",
              "      <td>0.401574</td>\n",
              "      <td>0.370227</td>\n",
              "      <td>0.00120</td>\n",
              "      <td>0.306306</td>\n",
              "      <td>0.748</td>\n",
              "      <td>0.190789</td>\n",
              "    </tr>\n",
              "    <tr>\n",
              "      <th>15</th>\n",
              "      <td>0.292222</td>\n",
              "      <td>0.437830</td>\n",
              "      <td>0.92240</td>\n",
              "      <td>0.299550</td>\n",
              "      <td>0.714</td>\n",
              "      <td>0.251645</td>\n",
              "    </tr>\n",
              "  </tbody>\n",
              "</table>\n",
              "</div>"
            ],
            "text/plain": [
              "     Subjectivity  Polarity  Compound  Negative  Neutral  Positive\n",
              "71       0.410909  0.388328   0.85655  0.180180    0.833  0.143092\n",
              "160      0.340023  0.242115   0.00090  0.337838    0.774  0.125000\n",
              "180      0.421230  0.376940   0.00200  0.335586    0.738  0.185855\n",
              "75       0.415278  0.196759   0.03055  0.265766    0.828  0.090461\n",
              "59       0.493362  0.476381   0.08270  0.376126    0.705  0.210526\n",
              "101      0.424206  0.369048   0.13655  0.286036    0.762  0.182566\n",
              "229      0.383692  0.296192   0.00040  0.333333    0.760  0.152961\n",
              "18       0.410714  0.361523   0.12245  0.297297    0.744  0.203947\n",
              "188      0.401574  0.370227   0.00120  0.306306    0.748  0.190789\n",
              "15       0.292222  0.437830   0.92240  0.299550    0.714  0.251645"
            ]
          },
          "metadata": {
            "tags": []
          },
          "execution_count": 179
        }
      ]
    },
    {
      "cell_type": "markdown",
      "metadata": {
        "id": "VvIHS0C3XQ3F"
      },
      "source": [
        "### Step 12 : Training a Random Forest Regressor and Adaboost Regressor for hybrid analysis"
      ]
    },
    {
      "cell_type": "code",
      "metadata": {
        "id": "ovmHB8VeXE8D"
      },
      "source": [
        "rf = RandomForestRegressor()\n",
        "rf.fit(x_train, y_train)\n",
        "prediction=rf.predict(x_test)"
      ],
      "execution_count": 180,
      "outputs": []
    },
    {
      "cell_type": "markdown",
      "metadata": {
        "id": "KQgSbGsIXYkC"
      },
      "source": [
        "### Step 13 : Determining the accuracy scores for both the Models"
      ]
    },
    {
      "cell_type": "code",
      "metadata": {
        "colab": {
          "base_uri": "https://localhost:8080/"
        },
        "id": "pNvUTVEOXE_f",
        "outputId": "6626efad-fe12-47dc-e79b-390af7f7fa80"
      },
      "source": [
        "print(prediction[:10])\n",
        "print(y_test[:10])\n",
        "print(\"Root mean square error = \",math.sqrt(mean_squared_error(prediction,y_test)),\" RMSE\")"
      ],
      "execution_count": 181,
      "outputs": [
        {
          "output_type": "stream",
          "text": [
            "[41014.92867216 34172.78546882 35945.11816403 33976.56498054\n",
            " 41015.59863288 41953.46976578 40220.38898443 37083.48355474\n",
            " 36028.18113277 41303.83132823]\n",
            "Date\n",
            "2020-11-11    43593.671875\n",
            "2020-06-18    34208.050781\n",
            "2020-05-06    31685.750000\n",
            "2020-08-06    38025.449219\n",
            "2020-08-03    36939.601563\n",
            "2020-08-12    38369.628906\n",
            "2020-10-05    38973.699219\n",
            "2020-04-22    31379.550781\n",
            "2020-03-19    28288.230469\n",
            "2020-08-04    37687.910156\n",
            "Name: Close, dtype: float64\n",
            "Root mean square error =  4199.166209098527  RMSE\n"
          ],
          "name": "stdout"
        }
      ]
    },
    {
      "cell_type": "code",
      "metadata": {
        "id": "YB8mymZWR-w6"
      },
      "source": [
        "adb = AdaBoostRegressor()\n",
        "adb.fit(x_train, y_train)\n",
        "predictions = adb.predict(x_test)"
      ],
      "execution_count": 182,
      "outputs": []
    },
    {
      "cell_type": "code",
      "metadata": {
        "colab": {
          "base_uri": "https://localhost:8080/"
        },
        "id": "GezgK7hSXeLq",
        "outputId": "0d980049-f20b-40a0-c55b-36511f080739"
      },
      "source": [
        "print(\"Root mean square error = \",math.sqrt(mean_squared_error(predictions, y_test)),\" RMSE\")"
      ],
      "execution_count": 183,
      "outputs": [
        {
          "output_type": "stream",
          "text": [
            "Root mean square error =  3844.2569621133757  RMSE\n"
          ],
          "name": "stdout"
        }
      ]
    }
  ]
}